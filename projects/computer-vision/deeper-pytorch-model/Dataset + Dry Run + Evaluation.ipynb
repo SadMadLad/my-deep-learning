{
 "cells": [
  {
   "cell_type": "markdown",
   "id": "homeless-bibliography",
   "metadata": {},
   "source": [
    "# Libraries"
   ]
  },
  {
   "cell_type": "code",
   "execution_count": 1,
   "id": "instant-nickel",
   "metadata": {},
   "outputs": [],
   "source": [
    "import numpy as np\n",
    "from torchvision.utils import make_grid"
   ]
  },
  {
   "cell_type": "code",
   "execution_count": 2,
   "id": "available-colony",
   "metadata": {},
   "outputs": [],
   "source": [
    "from dataloaders import GetSingleBatch, Loader"
   ]
  },
  {
   "cell_type": "markdown",
   "id": "perceived-boating",
   "metadata": {},
   "source": []
  }
 ],
 "metadata": {
  "kernelspec": {
   "display_name": "Python 3 (ipykernel)",
   "language": "python",
   "name": "python3"
  },
  "language_info": {
   "codemirror_mode": {
    "name": "ipython",
    "version": 3
   },
   "file_extension": ".py",
   "mimetype": "text/x-python",
   "name": "python",
   "nbconvert_exporter": "python",
   "pygments_lexer": "ipython3",
   "version": "3.9.2"
  }
 },
 "nbformat": 4,
 "nbformat_minor": 5
}
