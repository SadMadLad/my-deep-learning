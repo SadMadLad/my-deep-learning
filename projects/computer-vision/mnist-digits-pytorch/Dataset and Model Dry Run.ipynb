{
 "cells": [
  {
   "cell_type": "markdown",
   "id": "purple-smooth",
   "metadata": {},
   "source": [
    "# Libraries"
   ]
  },
  {
   "cell_type": "code",
   "execution_count": 22,
   "id": "positive-kruger",
   "metadata": {},
   "outputs": [],
   "source": [
    "import torch\n",
    "from torchvision.datasets import MNIST\n",
    "import matplotlib.pyplot as plt\n",
    "import torchvision.transforms as transforms\n",
    "import torch.nn.functional as F"
   ]
  },
  {
   "cell_type": "code",
   "execution_count": 2,
   "id": "miniature-helmet",
   "metadata": {},
   "outputs": [],
   "source": [
    "from mnist_model import MnistModel\n",
    "from dataloaders import Loaders"
   ]
  },
  {
   "cell_type": "markdown",
   "id": "demonstrated-exemption",
   "metadata": {},
   "source": [
    "# Visualizing Dataset"
   ]
  },
  {
   "cell_type": "code",
   "execution_count": 3,
   "id": "likely-angola",
   "metadata": {},
   "outputs": [],
   "source": [
    "mnist = MNIST(root=\"./dataset/\", download=False, train=True)\n",
    "img, label = mnist[5]"
   ]
  },
  {
   "cell_type": "code",
   "execution_count": 4,
   "id": "aware-penguin",
   "metadata": {},
   "outputs": [
    {
     "data": {
      "image/png": "[encoded data removed]",
      "text/plain": [
       "<Figure size 432x288 with 1 Axes>"
      ]
     },
     "metadata": {
      "needs_background": "light"
     },
     "output_type": "display_data"
    }
   ],
   "source": [
    "plt.imshow(img);"
   ]
  },
  {
   "cell_type": "code",
   "execution_count": 5,
   "id": "political-russian",
   "metadata": {},
   "outputs": [],
   "source": [
    "mnist = MNIST(root=\"./dataset/\", download=False, train=False, transform=transforms.ToTensor())\n",
    "img, label = mnist[3]"
   ]
  },
  {
   "cell_type": "code",
   "execution_count": 6,
   "id": "overhead-yeast",
   "metadata": {},
   "outputs": [
    {
     "data": {
      "text/plain": [
       "<matplotlib.image.AxesImage at 0x15904e59f70>"
      ]
     },
     "execution_count": 6,
     "metadata": {},
     "output_type": "execute_result"
    },
    {
     "data": {
      "image/png": "[encoded data removed]",
      "text/plain": [
       "<Figure size 432x288 with 1 Axes>"
      ]
     },
     "metadata": {
      "needs_background": "light"
     },
     "output_type": "display_data"
    }
   ],
   "source": [
    "plt.imshow(img[0, 10:20, 10:20], cmap='gray')"
   ]
  },
  {
   "cell_type": "code",
   "execution_count": 7,
   "id": "ultimate-morocco",
   "metadata": {},
   "outputs": [
    {
     "data": {
      "text/plain": [
       "<matplotlib.image.AxesImage at 0x15904d86670>"
      ]
     },
     "execution_count": 7,
     "metadata": {},
     "output_type": "execute_result"
    },
    {
     "data": {
      "image/png": "[encoded data removed]",
      "text/plain": [
       "<Figure size 432x288 with 1 Axes>"
      ]
     },
     "metadata": {
      "needs_background": "light"
     },
     "output_type": "display_data"
    }
   ],
   "source": [
    "plt.imshow(img[0, :, :], cmap='gray')"
   ]
  },
  {
   "cell_type": "code",
   "execution_count": 8,
   "id": "skilled-contrary",
   "metadata": {},
   "outputs": [
    {
     "data": {
      "text/plain": [
       "0"
      ]
     },
     "execution_count": 8,
     "metadata": {},
     "output_type": "execute_result"
    }
   ],
   "source": [
    "label"
   ]
  },
  {
   "cell_type": "markdown",
   "id": "instant-surgeon",
   "metadata": {},
   "source": [
    "# Dry run and Model setup"
   ]
  },
  {
   "cell_type": "code",
   "execution_count": 9,
   "id": "suburban-university",
   "metadata": {},
   "outputs": [],
   "source": [
    "model = MnistModel()"
   ]
  },
  {
   "cell_type": "code",
   "execution_count": 11,
   "id": "retired-retro",
   "metadata": {},
   "outputs": [
    {
     "name": "stdout",
     "output_type": "stream",
     "text": [
      "\n",
      "Training samples:  51000\n",
      "Validation Samples:  9000\n",
      "Test Samples:  10000 \n",
      "\n"
     ]
    }
   ],
   "source": [
    "train_loader, validation_loader, test_loader = Loaders()"
   ]
  },
  {
   "cell_type": "code",
   "execution_count": 46,
   "id": "sorted-psychiatry",
   "metadata": {},
   "outputs": [
    {
     "name": "stdout",
     "output_type": "stream",
     "text": [
      "torch.Size([128, 10])\n",
      "torch.Size([128, 10])\n",
      "First 5 Predicted Classes:  tensor([9, 6, 7, 6, 6])\n",
      "First 5 Actual Classes:  tensor([3, 8, 7, 7, 9])\n",
      "Accuracy:  15.625\n",
      "Loss:  tensor(2.3159, grad_fn=<NllLossBackward0>)\n"
     ]
    }
   ],
   "source": [
    "for X, y in train_loader:\n",
    "    predictions = model(X)\n",
    "    print(predictions.shape)\n",
    "    probabilities = F.softmax(predictions, dim=1)\n",
    "    print(probabilities.shape)\n",
    "    maximum_probabilities, predicted_classes = torch.max(probabilities, 1)\n",
    "    print(\"First 5 Predicted Classes: \", predicted_classes[:5])\n",
    "    print(\"First 5 Actual Classes: \", y[:5])\n",
    "    print(\"Accuracy: \", (torch.sum(predicted_classes == y) / predicted_classes.shape[0]).item()*100)\n",
    "    loss = F.cross_entropy\n",
    "    loss_val = loss(predictions, y)\n",
    "    print(\"Loss: \", loss_val)\n",
    "    break"
   ]
  },
  {
   "cell_type": "code",
   "execution_count": 45,
   "id": "australian-gravity",
   "metadata": {},
   "outputs": [
    {
     "data": {
      "text/plain": [
       "<function _VariableFunctionsClass.max>"
      ]
     },
     "execution_count": 45,
     "metadata": {},
     "output_type": "execute_result"
    }
   ],
   "source": [
    "torch.max"
   ]
  },
  {
   "cell_type": "code",
   "execution_count": null,
   "id": "nervous-angle",
   "metadata": {},
   "outputs": [],
   "source": []
  }
 ],
 "metadata": {
  "kernelspec": {
   "display_name": "Python 3 (ipykernel)",
   "language": "python",
   "name": "python3"
  },
  "language_info": {
   "codemirror_mode": {
    "name": "ipython",
    "version": 3
   },
   "file_extension": ".py",
   "mimetype": "text/x-python",
   "name": "python",
   "nbconvert_exporter": "python",
   "pygments_lexer": "ipython3",
   "version": "3.9.2"
  }
 },
 "nbformat": 4,
 "nbformat_minor": 5
}
