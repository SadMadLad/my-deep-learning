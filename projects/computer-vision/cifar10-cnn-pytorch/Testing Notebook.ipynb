{
 "cells": [
  {
   "cell_type": "markdown",
   "id": "thousand-midwest",
   "metadata": {},
   "source": [
    "# Libraries"
   ]
  },
  {
   "cell_type": "code",
   "execution_count": 34,
   "id": "young-wrist",
   "metadata": {},
   "outputs": [],
   "source": [
    "import torch"
   ]
  },
  {
   "cell_type": "markdown",
   "id": "confidential-parker",
   "metadata": {},
   "source": [
    "# Class-wise Prediction Dictionary"
   ]
  },
  {
   "cell_type": "code",
   "execution_count": 35,
   "id": "asian-girlfriend",
   "metadata": {},
   "outputs": [],
   "source": [
    "true = [0, 0, 0, 1, 1, 2, 2, 3, 3, 4, 4, 5, 5]\n",
    "predicted = [0, 6, 0, 6, 2, 6, 3, 6, 4, 6, 5, 6]"
   ]
  },
  {
   "cell_type": "code",
   "execution_count": 36,
   "id": "cognitive-education",
   "metadata": {},
   "outputs": [],
   "source": [
    "predicted = torch.tensor(predicted, dtype=torch.int16)\n",
    "true = torch.tensor(true, dtype=torch.int16)"
   ]
  },
  {
   "cell_type": "code",
   "execution_count": 37,
   "id": "classified-charleston",
   "metadata": {},
   "outputs": [],
   "source": [
    "indices = list((true == 0).nonzero(as_tuple=True)[0].detach().numpy())"
   ]
  },
  {
   "cell_type": "code",
   "execution_count": 38,
   "id": "lonely-series",
   "metadata": {},
   "outputs": [
    {
     "data": {
      "text/plain": [
       "tensor(2)"
      ]
     },
     "execution_count": 38,
     "metadata": {},
     "output_type": "execute_result"
    }
   ],
   "source": [
    "(predicted[indices] == true[indices]).sum()"
   ]
  },
  {
   "cell_type": "code",
   "execution_count": 46,
   "id": "thrown-memorabilia",
   "metadata": {},
   "outputs": [],
   "source": [
    "matrix_1 = [[1, 2], [3, 4]]\n",
    "matrix_2 = [[10, 12], [12, 14]]"
   ]
  },
  {
   "cell_type": "code",
   "execution_count": 47,
   "id": "signed-assault",
   "metadata": {},
   "outputs": [],
   "source": [
    "image = torch.tensor([matrix_1, matrix_2, matrix_1], dtype=torch.float32)"
   ]
  },
  {
   "cell_type": "code",
   "execution_count": 48,
   "id": "productive-interface",
   "metadata": {},
   "outputs": [
    {
     "data": {
      "text/plain": [
       "tensor([[[-0.9623, -0.7561],\n",
       "         [-0.5499, -0.3437]],\n",
       "\n",
       "        [[ 0.8936,  1.3060],\n",
       "         [ 1.3060,  1.7185]],\n",
       "\n",
       "        [[-0.9623, -0.7561],\n",
       "         [-0.5499, -0.3437]]])"
      ]
     },
     "execution_count": 48,
     "metadata": {},
     "output_type": "execute_result"
    }
   ],
   "source": [
    "(image - image.mean()) / image.std()"
   ]
  },
  {
   "cell_type": "code",
   "execution_count": null,
   "id": "dense-rhythm",
   "metadata": {},
   "outputs": [],
   "source": []
  }
 ],
 "metadata": {
  "kernelspec": {
   "display_name": "Python 3 (ipykernel)",
   "language": "python",
   "name": "python3"
  },
  "language_info": {
   "codemirror_mode": {
    "name": "ipython",
    "version": 3
   },
   "file_extension": ".py",
   "mimetype": "text/x-python",
   "name": "python",
   "nbconvert_exporter": "python",
   "pygments_lexer": "ipython3",
   "version": "3.9.2"
  }
 },
 "nbformat": 4,
 "nbformat_minor": 5
}
