{
 "cells": [
  {
   "cell_type": "markdown",
   "id": "wired-transsexual",
   "metadata": {},
   "source": [
    "# Libraries"
   ]
  },
  {
   "cell_type": "code",
   "execution_count": 1,
   "id": "unavailable-behavior",
   "metadata": {},
   "outputs": [],
   "source": [
    "import torch"
   ]
  },
  {
   "cell_type": "markdown",
   "id": "saving-investigator",
   "metadata": {},
   "source": [
    "# Class-wise Prediction Dictionary"
   ]
  },
  {
   "cell_type": "code",
   "execution_count": 30,
   "id": "devoted-violence",
   "metadata": {},
   "outputs": [],
   "source": [
    "true = [0, 0, 0, 1, 1, 2, 2, 3, 3, 4, 4, 5, 5]\n",
    "predicted = [0, 6, 0, 6, 2, 6, 3, 6, 4, 6, 5, 6]"
   ]
  },
  {
   "cell_type": "code",
   "execution_count": 31,
   "id": "inner-albuquerque",
   "metadata": {},
   "outputs": [],
   "source": [
    "predicted = torch.tensor(predicted, dtype=torch.int16)\n",
    "true = torch.tensor(true, dtype=torch.int16)"
   ]
  },
  {
   "cell_type": "code",
   "execution_count": 32,
   "id": "inclusive-bacteria",
   "metadata": {},
   "outputs": [],
   "source": [
    "indices = list((true == 0).nonzero(as_tuple=True)[0].detach().numpy())"
   ]
  },
  {
   "cell_type": "code",
   "execution_count": 33,
   "id": "peaceful-knowing",
   "metadata": {},
   "outputs": [
    {
     "data": {
      "text/plain": [
       "tensor(2)"
      ]
     },
     "execution_count": 33,
     "metadata": {},
     "output_type": "execute_result"
    }
   ],
   "source": [
    "(predicted[indices] == true[indices]).sum()"
   ]
  },
  {
   "cell_type": "code",
   "execution_count": null,
   "id": "sealed-drinking",
   "metadata": {},
   "outputs": [],
   "source": []
  }
 ],
 "metadata": {
  "kernelspec": {
   "display_name": "Python 3 (ipykernel)",
   "language": "python",
   "name": "python3"
  },
  "language_info": {
   "codemirror_mode": {
    "name": "ipython",
    "version": 3
   },
   "file_extension": ".py",
   "mimetype": "text/x-python",
   "name": "python",
   "nbconvert_exporter": "python",
   "pygments_lexer": "ipython3",
   "version": "3.9.2"
  }
 },
 "nbformat": 4,
 "nbformat_minor": 5
}
